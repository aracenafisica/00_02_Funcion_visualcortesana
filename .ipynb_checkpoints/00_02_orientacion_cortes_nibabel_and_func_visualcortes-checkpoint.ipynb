{
 "cells": [
  {
   "cell_type": "markdown",
   "id": "7201e281",
   "metadata": {},
   "source": [
    "![](imagenes/UC_FMRI.jpg)"
   ]
  },
  {
   "cell_type": "markdown",
   "id": "4b1fe6fa",
   "metadata": {},
   "source": [
    "---\n",
    "\n",
    "---\n",
    "\n",
    "***Andres Eduardo Aracena Rangel***\n",
    "\n",
    "*Estudiante del programa del Magister en Física Médica*\n",
    "\n",
    "---\n",
    "\n",
    "---\n",
    "\n",
    "El siguiente Script de Python forma parte del trabajo especial de grado.\n",
    "\n",
    "Profesor Guía:\n",
    "\n",
    "*PhD María Daniela Cornejo*\n",
    "\n",
    "---\n",
    "\n",
    "---\n",
    "\n",
    "Con referencia:\n",
    "\n",
    "- [Pagina oficial NIbabel](https://nipy.org/nibabel/index.html) \n",
    "\n",
    "Orientaciones:\n",
    "- Neu, Scott and Crawford, Karen and Toga, Arthur.Practical management of heterogeneous neuroimaging metadata by global neuroimaging data repositories.Frontiers in Neuroinformatics.6.2012.   https://www.frontiersin.org/articles/10.3389/fninf.2012.00008/full\n",
    "\n",
    "\n",
    "- https://nipy.org/nibabel/coordinate_systems.html\n",
    "- https://nipy.org/nibabel/neuro_radio_conventions.html\n",
    "\n",
    "---\n",
    "\n",
    "---\n",
    "\n",
    "Acronimos:\n",
    "- RM: Resonancia Magnética\n",
    "- IMR: Imágen de Resoanncia Magnetica\n",
    "- IMRf: Imágen de Resoanncia Magnetica funcional\n",
    "- DF: DataFrame"
   ]
  },
  {
   "cell_type": "markdown",
   "id": "466c03e7",
   "metadata": {},
   "source": [
    "# Cargando neuroimagenes con *nibabel*"
   ]
  },
  {
   "cell_type": "markdown",
   "id": "42c5cd29",
   "metadata": {},
   "source": [
    "Verificamos la ubicacion o ruta de la imagenes a cargar, mediante las funciones magicas:\n",
    "\n",
    "    %pwd\n",
    "    %ls    "
   ]
  },
  {
   "cell_type": "code",
   "execution_count": 99,
   "id": "233e8826",
   "metadata": {
    "scrolled": false
   },
   "outputs": [
    {
     "data": {
      "text/plain": [
       "'/opt/home/aracena/thesis_ds004101/00_fase0_tips_nibabel_funciones/00_02_orientacion_cortes_nibabel_and_func_visualcortes'"
      ]
     },
     "execution_count": 99,
     "metadata": {},
     "output_type": "execute_result"
    }
   ],
   "source": [
    "%pwd"
   ]
  },
  {
   "cell_type": "code",
   "execution_count": 100,
   "id": "575d1842",
   "metadata": {},
   "outputs": [
    {
     "name": "stdout",
     "output_type": "stream",
     "text": [
      "\u001b[0m\u001b[01;34manat\u001b[0m/  \u001b[01;34mfmap\u001b[0m/  \u001b[01;34mfunc\u001b[0m/\r\n"
     ]
    }
   ],
   "source": [
    "%ls /home/aracena/data/ds002422/sub-01/"
   ]
  },
  {
   "cell_type": "markdown",
   "id": "20944992",
   "metadata": {},
   "source": [
    "# Importamos librerias\n"
   ]
  },
  {
   "cell_type": "code",
   "execution_count": 101,
   "id": "db34e2e0",
   "metadata": {},
   "outputs": [],
   "source": [
    "import time # medir el tiempo de ejecución de nuestros programas\n",
    "start = time.process_time()\n",
    "inicio = time.time()"
   ]
  },
  {
   "cell_type": "code",
   "execution_count": 102,
   "id": "428e3a53",
   "metadata": {},
   "outputs": [],
   "source": [
    "import os # El módulo os nos permite acceder a funcionalidades dependientes del Sistema Operativo\n",
    "from os.path import join as opj # Este método concatena varios componentes de ruta con exactamente un separador de directorio(‘/’)\n",
    "\n",
    "import nibabel as nib # Acceso de letcura/escritura y visualización de algunos formatos comunes de neuroimagen"
   ]
  },
  {
   "cell_type": "markdown",
   "id": "58d7ca01",
   "metadata": {},
   "source": [
    "# Definimos Parametros "
   ]
  },
  {
   "cell_type": "code",
   "execution_count": 103,
   "id": "78fe5af9",
   "metadata": {},
   "outputs": [
    {
     "data": {
      "text/plain": [
       "0"
      ]
     },
     "execution_count": 103,
     "metadata": {},
     "output_type": "execute_result"
    }
   ],
   "source": [
    "'''\n",
    "Ruta del directorio de la data\n",
    "'''\n",
    "path_data = '/home/aracena/data/ds004101/'\n",
    "\n",
    "# Ruta donde reposa la imagen anatomica\n",
    "path_anat = opj(path_data,'sub-09114','ses-1pre','anat')\n",
    "\n",
    "# Ruta donde reposa la imagen funcional\n",
    "path_fmri = opj(path_data,'sub-09114','ses-1pre','func')\n",
    "\n",
    "'''\n",
    "Ruta donde se guardaran los resultados\n",
    "'''\n",
    "path_expe = '/home/aracena/thesis_ds004101/00_fase0_tips_nibabel_funciones/'\n",
    "\n",
    "path_output = opj(path_expe,'00_02_orientacion_cortes_nibabel_and_func_visualcortes', 'output')\n",
    "path_png = opj(path_output,'archivos_png')\n",
    "\n",
    "# Crear la(s) carpeta(s) de salida\n",
    "os.system('mkdir -p %s'%path_output)\n",
    "os.system('mkdir -p %s'%path_png)"
   ]
  },
  {
   "cell_type": "markdown",
   "id": "415bff10",
   "metadata": {},
   "source": [
    "# Cargamos imagenes anatomica y fisiologica"
   ]
  },
  {
   "cell_type": "code",
   "execution_count": 104,
   "id": "192c6224",
   "metadata": {
    "run_control": {
     "marked": false
    }
   },
   "outputs": [],
   "source": [
    "# Anatomica\n",
    "img_ana = nib.load(opj(path_anat,'sub-09114_ses-1pre_T1w.nii.gz')) # Cargamos la imagen y creamos un objeto imagen_anatomica\n",
    "\n",
    "# Fisiologica\n",
    "img_fis = nib.load(opj(path_fmri, 'sub-09114_ses-1pre_task-rest_bold.nii.gz')) # Cargamos la imagen y creamos un objeto imagen_fisiologica"
   ]
  },
  {
   "cell_type": "markdown",
   "id": "6d18e956",
   "metadata": {},
   "source": [
    "# Cargar datos de la imagen"
   ]
  },
  {
   "cell_type": "code",
   "execution_count": 105,
   "id": "ac9262c5",
   "metadata": {},
   "outputs": [],
   "source": [
    "# Anatomica\n",
    "datos_img_ana = img_ana.get_fdata()\n",
    "\n",
    "# Fisiologica\n",
    "datos_img_fis = img_fis.get_fdata()"
   ]
  },
  {
   "cell_type": "code",
   "execution_count": 106,
   "id": "e8236bda",
   "metadata": {},
   "outputs": [
    {
     "name": "stdout",
     "output_type": "stream",
     "text": [
      "\n",
      "----------------------------\n",
      "\n",
      "Forma de la matriz_fis: \n",
      " (256, 256, 176) ----> 3D\n",
      "\n",
      "----------------------------\n",
      "\n",
      "Forma de la matriz_fis: \n",
      " (64, 64, 36, 189) ----> 4D\n",
      "\n",
      "----------------------------\n",
      "\n"
     ]
    }
   ],
   "source": [
    "# Anatómica\n",
    "form_ana = img_ana.shape # Atributo --> Forma Matriz\n",
    "\n",
    "# Fisiológica\n",
    "form_fis = img_fis.shape # Atributo --> Forma Matriz\n",
    "\n",
    "print('\\n----------------------------\\n')\n",
    "print('Forma de la matriz_fis:', '\\n', form_ana, '---->', '3D')\n",
    "print('\\n----------------------------\\n')\n",
    "print('Forma de la matriz_fis:', '\\n', form_fis, '---->', '4D')\n",
    "print('\\n----------------------------\\n')"
   ]
  },
  {
   "cell_type": "markdown",
   "id": "4969ed48",
   "metadata": {},
   "source": [
    "# Orientación de la imagen"
   ]
  },
  {
   "cell_type": "code",
   "execution_count": 107,
   "id": "7a56c062",
   "metadata": {},
   "outputs": [
    {
     "name": "stdout",
     "output_type": "stream",
     "text": [
      "--------------------------------------\n",
      "\n",
      "Orientación de la imagen anatómica:\n",
      " ('P', 'S', 'R')\n",
      "\n",
      "--------------------------------------\n",
      "\n",
      "Orientación de la imagen fisiológica:\n",
      " ('L', 'A', 'S')\n",
      "\n",
      "--------------------------------------\n",
      "\n"
     ]
    }
   ],
   "source": [
    "# Anatómica\n",
    "ori_ana = nib.orientations.aff2axcodes(img_ana.affine)\n",
    "\n",
    "#Fisiológica\n",
    "ori_fis = nib.orientations.aff2axcodes(img_fis.affine)\n",
    "\n",
    "print('--------------------------------------\\n')\n",
    "print('Orientación de la imagen anatómica:\\n', ori_ana)\n",
    "print('\\n--------------------------------------\\n')\n",
    "print('Orientación de la imagen fisiológica:\\n', ori_fis)\n",
    "print('\\n--------------------------------------\\n')"
   ]
  },
  {
   "cell_type": "markdown",
   "id": "64452018",
   "metadata": {},
   "source": [
    "Para comprender/entender que significa las orientaciones de las imagenes, debemos conocer los diferentes sistemas de coordenadas al tratar con imágenes y aplicaciones médicas. Hay tres sistemas de coordenadas comúnmente utilizados en aplicaciones de imágenes y Cada sistema de coordenadas tiene un propósito y representa sus datos de diferentes maneras. Contamos con tres sistemas de refrencia:\n",
    "\n",
    "- Sistema de coordenadas mundial (Escaner)\n",
    "- Sistema de coordenadas anatómico (Convención Radiológica/Neurológica)\n",
    "- Sistema de coordenadas voxels (Imagen)\n",
    "\n",
    "La siguiente figura ilustra los tres espacios y sus correspondientes ejes.\n",
    "\n",
    "\n",
    "<img src=\"imagenes/sistemas_coordenadas.png\" width=\"950\">"
   ]
  },
  {
   "cell_type": "markdown",
   "id": "782a31b0",
   "metadata": {},
   "source": [
    "## Sistema de coordenadas mundial (escáner XYZ)"
   ]
  },
  {
   "cell_type": "markdown",
   "id": "ff002176",
   "metadata": {},
   "source": [
    "Cuando se hace referencia al sistema de coordenadas mundial en IRM, se hace referencia al sistema de coordenas del escaner de RM. Este sistema esta conformado por tres ejes ortogonales, cuyo origen de los ejes está en el isocentro del imán; esta es la coordenada (0, 0, 0) en nuestro espacio de referencia. Las unidades para los tres ejes son milímetros. Para definir la dirección de los ejes, imaginemosnos un observador parado detrás del escáner mirando a través del orificio del imán hacia el final de la cama del escáner, como se observa en la figura.\n",
    "\n",
    "<img src=\"imagenes/sistemas_coordenadas_equipo.png\" width=\"750\">\n",
    "\n",
    "Dibuje una línea que viaja hacia el observador a través del centro del orificio del imán, paralela al piso/cama, con el punto cero en el isocentro del imán y los valores positivos más cerca del observador. Llame a esta línea el eje del orificio del escáner (eje z).\n",
    "\n",
    "Dibuje una línea que viaja desde el piso de la sala del escáner a través del isocentro del imán hacia el techo, en ángulo recto con el eje del orificio del escáner. El punto cero en el isocentro del imán y los valores positivos están hacia el techo. Llame a esta línea el eje escáner-suelo/techo (eje y).\n",
    "\n",
    "Dibuja una línea en ángulo recto con las otras dos líneas, paralela al piso, viajando desde la izquierda del observador y a través del isocentro del imán hacia la derecha del observador. El punto cero en el isocentro del imán y los valores positivos están a la derecha. Llame a esta línea escáner-izquierda/derecha (eje x).\n",
    "\n",
    "Este sistema de referencia a veces se conoce como \"escáner XYZ\". \n",
    "\n",
    "Una coordenada de (x,y,z)=(-20,10,−30) en el sistema mundial, nos indica que el punto se encuentra a 20 mm a la izquierda (del observador ficticio) del isocentro, a 10 mm hacia el techo y a 30 mm hacia el pie de la cama del escáner."
   ]
  },
  {
   "cell_type": "markdown",
   "id": "f54581f0",
   "metadata": {},
   "source": [
    "## Sistema de coordenadas anatómico (Convención Radiológica/Neurológica)"
   ]
  },
  {
   "cell_type": "markdown",
   "id": "e47b519d",
   "metadata": {},
   "source": [
    "El sistema de coordenadas anatómico consta de tres planos para describir la posición anatómica estándar de un ser humano:\n",
    "\n",
    "- Plano sagital: separa la izquierda (Left) de la derecha (Right),\n",
    "- Plano axial: separa la cabeza (Superior) de los pies (Inferior),\n",
    "- Plano coronal: separa el frente de (Anterior) la espalda (Posterior).\n",
    "\n",
    "\n",
    "<img src=\"imagenes/planos_anatomicos.png\" width=\"950\">\n",
    "\n",
    "En la figura podemos observar como el sujeto se encuentra en la camilla en posición decubito supino (posición corporal acostado boca arriba en un plano paralelo al suelo), donde el eje escáner izquierda/derecha coincide con el eje izquierda/derecha del sujeto, el eje escáner suelo/techo es el eje posterior/anterior, y el eje del orificio del escáner es el eje inferior/superior del sujeto; podriamos concluir que al menos los ejes del escáner coinciden con los ejes anatómicos. Pero, si el sujeto se encuentra en camilla en posición decubito prono (posición corporal acostado boca abajo en un plano paralelo al suelo), solo coincidiria el eje del orificio del escáner (eje z) con en el eje inferior/superior del sujeto, por lo tanto, el sistema de referencia munidal no nos informará sobre la izquierda y la derecha del sujeto, sino solo sobre la izquierda y la derecha del escáner. Es por esta razón, de la necesidad de saber dónde estamos en términos de la izquierda y la derecha del sujeto, que se utiliza los sistemas de coordenadas anatómicos centrados en el sujeto. La mayoría de los formatos de archivo utilizan dos convenciones:\n",
    "\n",
    "- Convención neurológica\n",
    "- Convención radiológica\n",
    "\n",
    "En estos sistemas, los ejes siguen siendo los ejes del escáner, pero el orden y la dirección de los ejes provienen de la posición del sujeto."
   ]
  },
  {
   "cell_type": "markdown",
   "id": "49ff5e2b",
   "metadata": {},
   "source": [
    "### Convención neurológica (RAS)"
   ]
  },
  {
   "cell_type": "markdown",
   "id": "0b570165",
   "metadata": {},
   "source": [
    "A los neurólogos les gusta mirar imágenes del cerebro con el lado derecho del paciente a la derecha de la imagen. Esta perspectiva es como si el neurólogo estuviera mirando el corte de la parte superior de la cabeza del paciente (como se ilustra en la figura, nos imaginamos que el punto de vista del neurológo es como si estuiera posicionado detras del equipo a el extremo superior de la camilla) y, por lo tanto, apuntan el eje x de izquierda (left) a derecha (Right) del sujeto, el eje y de posterior (posterior) a anterior (Anterior) del sujeto y el eje z de los pies (inferior) a la cabeza (Superior) del sujeto. Este sistema de coordenadas se denomina \"RAS\" (Right, Anterior y Superior), siendo el ás común en neuroimagen y se ilustra en la figura.\n",
    "\n",
    "<img src=\"imagenes/sistemas_coordenadas_neurologico.png\" width=\"950\">"
   ]
  },
  {
   "cell_type": "markdown",
   "id": "40d3a83f",
   "metadata": {},
   "source": [
    "### Convención radiológica (LPS)"
   ]
  },
  {
   "cell_type": "markdown",
   "id": "d0e2a3fb",
   "metadata": {},
   "source": [
    "A los radiólogos les gusta mirar sus imágenes con la izquierda del paciente a la derecha de la imagen. Si están mirando una imagen del cerebro, es como si estuvieran mirando el corte del cerebro desde el punto de vista de los pies del paciente (como se ilustra en la figura, nos imaginamos que el punto de vista del radiológo es como si estuiera posicionado a los pies del paciente a el extremo inferior de la camilla), y, por lo tanto, apuntan el eje x de derecha (right) a izquierda (Left) del sujeto, el eje y de anterior (anterior) a posterior (Posterior)  del sujeto y el eje z de los pies (inferior) a la cabeza (Superior) del sujeto. Este sistema de coordenadas se denomina \"LPS\" (Left, Posteior y Superior).\n",
    "\n",
    "<img src=\"imagenes/sistemas_coordenadas_radiologico.png\" width=\"950\">"
   ]
  },
  {
   "cell_type": "markdown",
   "id": "eabccecd",
   "metadata": {},
   "source": [
    "Es importamte destacar, que DICOM usa la convención radiológica mientras que NIFTI usa la convención neurológica.\n",
    "\n",
    "La pagina oficial de Nipype nos muestra imagen de un derrame cerebral en el lóbulo temporal izquierdo (lo que provoca un área oscura en la IRM), donde compara estas convenciones de visualización, mostrando las direcciones en las que están pensando el neurólogo y el radiólogo.\n",
    "\n",
    "<img src=\"imagenes/sistema_coordenadas_radioneuro.png\" width=\"350\">"
   ]
  },
  {
   "cell_type": "markdown",
   "id": "12f49d56",
   "metadata": {},
   "source": [
    "### Otras orientaciones anatomicas usadas"
   ]
  },
  {
   "cell_type": "markdown",
   "id": "3873b712",
   "metadata": {},
   "source": [
    "EXisten otras configuraciones para orientar el sistema de corrdenadas anatómico, por ejemplo, el sitema LAS o PSR, los cuales se orientan siguiendo la regla de la mano izquierda y se ilustran en las siguientes figuras.\n",
    "\n",
    "<img src=\"imagenes/sistemas_coordenadas_LAS.png\" width=\"850\">\n",
    "\n",
    "<img src=\"imagenes/sistemas_coordenadas_PSR.png\" width=\"850\">"
   ]
  },
  {
   "cell_type": "markdown",
   "id": "3051acf3",
   "metadata": {},
   "source": [
    "## Sistema de coordenadas voxels (IJK)"
   ]
  },
  {
   "cell_type": "markdown",
   "id": "ed00c11f",
   "metadata": {},
   "source": [
    "Como se describio en el script de python **00_01_atributos_nibabel_and_func_atributoimg.ipynb**, la imagen nifti esta compuesta por:\n",
    "    \n",
    "    - una matriz de N dimensiones que contiene los datos de la imagen,\n",
    "\n",
    "    - una matriz afín (4, 4) mapeando las coordenadas de la matriz a las coordenadas en algún espacio de coordenadas mundial RAS+,\n",
    "    \n",
    "    - metadatos de imagen en forma de encabezado.\n",
    "\n",
    "Los datos de imágenes digitales sin metadatos descriptivos no tienen sentido, ya que estos contienen requisitos y restricciones particulares que son necesarios para mantener la usabilidad y la interoperabilidad. \n",
    "\n",
    "Un archivo de una neuroimagen consta de una línea de bytes consecutivos; una imagen bidimensional primero debe transformarse en una matriz lineal de píxeles de imagen antes de que pueda almacenarse. Como se ilustra en la figura (centro), el método para escribir una imagen 2D en un archivo puede entenderse visualizando los píxeles como cuentas en una hebra de hilo. El hilo comienza en el primer píxel de la esquina superior izquierda de la imagen y pasa a través de los píxeles de la fila superior de la imagen. Vuelve al primer píxel de la siguiente fila repetidamente hasta que llega al último píxel de la última fila.\n"
   ]
  },
  {
   "cell_type": "markdown",
   "id": "e5d84e2d",
   "metadata": {},
   "source": [
    "<img src=\"imagenes/sistema_coordenadas_voxel_1.png\" width=\"850\">"
   ]
  },
  {
   "cell_type": "markdown",
   "id": "0aa949ff",
   "metadata": {},
   "source": [
    "Debido a que el ancho y el alto de la imagen se pierden en este proceso, se debe agregar información adicional al archivo de imagen para reconstruir y mostrar la imagen. Esta información adicional también puede incluir otras propiedades de la imagen, como el tamaño de cada píxel y la cantidad de componentes de color.  Si se escribe más de una imagen, debe estar presente el número total de imágenes. Esta información adicional se denomina metadatos de imagen."
   ]
  },
  {
   "cell_type": "markdown",
   "id": "c4540e2b",
   "metadata": {},
   "source": [
    "<img src=\"imagenes/sistema_coordenadas_voxel_2.png\" width=\"850\">"
   ]
  },
  {
   "cell_type": "markdown",
   "id": "ac7fe867",
   "metadata": {},
   "source": [
    "Los métodos de formación de imágenes en RM (0 CT) dan como resultado representaciones volumétricas tridimensionales de los datos, como por ejemplo de la imagen, con 5x5x5 vóxeles. Puede pensar que esta representación tiene un sistema de coordenadas de \"vóxel\", donde el vóxel (1, 1, 1) es el primero y (5, 5, 5) es el último en el volumen. Sin embargo, el sistema de coordenadas de vóxel no especifica las dimensiones geométricas (p. ej., mm o cm) y no especifica cómo se relaciona la anatomia del sujeto (que está en algún lugar dentro del volumen) con los índices de vóxel. Por lo tanto, una descripción volumétrica de los datos de imagen como una matriz tridimensional debe complementarse con una descripción del sistema de coordenadas anatomica descrita en la sección anterior."
   ]
  },
  {
   "cell_type": "markdown",
   "id": "82b60a9d",
   "metadata": {},
   "source": [
    "### Como se almacenan los datos en la matriz"
   ]
  },
  {
   "cell_type": "markdown",
   "id": "69e0bf31",
   "metadata": {},
   "source": [
    "El sistema de coordenadas de voxels es conocido como sistema IJK, donde i corresponde al eje 0, j al eje 1 y k al eje 2 en una representación matricial, datos_img[ i, j, k ]. \n",
    "\n",
    "Segun la orientación y secuencia del sistema de referencia del plano anatomicó, es como se guardaran los datos en la matriz. Si, el sistema de anatomico elegido al momento de la adquisición de las imágenes es la convención neurológica, RAS (figura abajo), nos indicará que el eje 0 de la matriz contiene los valores que aumentan de derecha a izquierda (x), el eje 1 contiene los valores que aumentan de posterior a anterior (y) y el eje 2 contiene los valores que aumentan de anterior a superior (z); de esta manera, los datos de la imagen están representados como datos_img[ x, y, z ].\n",
    "\n",
    "<img src=\"imagenes/sistema_coordenadas_voxel_ras.png\" width=\"850\">\n",
    "\n",
    "Si, el sistema de anatomico elegido al momento de la adquisición de las imágenes es la convención neurológica, PSR (figura abajo), nos indicará que el eje 0 de la matriz contiene los valores que aumentan de anterior a posterior a anterior (y) , el eje 1 contiene los valores que aumentan anterior a superior (z) y el eje 2 contiene los valores que aumentan de de derecha a izquierda (x) ; de esta manera, los datos de la imagen están representados como datos_img[ y, z, x ].\n",
    "\n",
    "<img src=\"imagenes/sistema_coordenadas_voxel_psr.png\" width=\"850\">"
   ]
  },
  {
   "cell_type": "markdown",
   "id": "226a9322",
   "metadata": {},
   "source": [
    "Como podemos observar, es importante al momento de trabajar datos de imágenes digitales, conocer los metadatos descriptivos, ya que entre los distintos datos que contiene sobre de las propiedades de las imágenes, nos indicara en que sistemas de referncias fueron adquiridas las imagenes.\n",
    "\n",
    "Además, existe otro tipo de metadatos de imagen aparte de las propiedades de las imágenes. Estos metadatos describen el sujeto que se escanea y la adquisición de las imágenes; por ejemplo, el nombre del sujeto, el fabricante del dispositivo de imágenes, la fecha y hora en que se adquirieron las imágenes, la sustancia inyectada en el sujeto. Tener esta información almacenada con las imágenes es crucial para una amplia gama de procesos automatizados, así como para permitir que los humanos comprendan el contexto y el origen de las imágenes. No todas las imágenes digitales se producen de la misma manera; sin embargo, todas contienen datos de imágenes (píxeles) y metadatos descriptivos."
   ]
  },
  {
   "cell_type": "markdown",
   "id": "45be93ba",
   "metadata": {},
   "source": [
    "&nbsp;\n",
    "# Cortes de Slices en Imagenes\n",
    "\n",
    "A veces es útil manipular la forma de una imagen manteniéndola en el mismo sistema de coordenadas. El atributo\n",
    "    \n",
    "    slicer\n",
    "\n",
    "proporciona una interfaz de corte de matriz para producir nuevas imágenes con un encabezado ajustado apropiadamente, de modo que los datos en una ubicación RAS determinada no se modifiquen.\n",
    "\n",
    "&nbsp;\n",
    "\n",
    "Utilizaremos la imagen anatomica (*img_ana*) para los cortes de slices:"
   ]
  },
  {
   "cell_type": "markdown",
   "id": "4f4d6473",
   "metadata": {},
   "source": [
    "## Cortes de slices en imagen anatómica (3D)"
   ]
  },
  {
   "cell_type": "markdown",
   "id": "f94334fb",
   "metadata": {},
   "source": [
    "### Cortar los primeros X slices de la imagen en la dirección *k* del sistema de coordenas voxels"
   ]
  },
  {
   "cell_type": "code",
   "execution_count": 108,
   "id": "520ecc56",
   "metadata": {},
   "outputs": [
    {
     "name": "stdout",
     "output_type": "stream",
     "text": [
      "\n",
      "--------------------------------------------------------------------------\n",
      "\n",
      "Forma de la matriz_ana: \n",
      " (256, 256, 176) ------> original\n",
      "\n",
      "--------------------------------------------------------------------------\n",
      "\n",
      "Forma del segmento matriz_ana: \n",
      " (256, 256, 166) ------> se recortaron los primeros 10 slices de la imagen\n",
      "\n",
      "--------------------------------------------------------------------------\n",
      "\n"
     ]
    }
   ],
   "source": [
    "# Indique el numero de primeros cortes que desea eliminar en la dirección k\n",
    "num_cor = 10\n",
    "\n",
    "# de la matriz form_ana, form_ana[2] me indica el slice\n",
    "corte_img_ana = img_ana.slicer[...,num_cor:form_ana[2]]\n",
    "\n",
    "# Comparamos con la forma orignal de img_ana\n",
    "print('\\n--------------------------------------------------------------------------\\n')\n",
    "print('Forma de la matriz_ana:', '\\n', form_ana, '------>', 'original')\n",
    "print('\\n--------------------------------------------------------------------------\\n')\n",
    "print('Forma del segmento matriz_ana:', '\\n', corte_img_ana.shape, '------>', \n",
    "      'se recortaron los primeros', num_cor,'slices de la imagen')\n",
    "print('\\n--------------------------------------------------------------------------\\n')"
   ]
  },
  {
   "cell_type": "markdown",
   "id": "7c367b68",
   "metadata": {},
   "source": [
    "### Cortar los primeros X y ultimos X slices en la dirección *k* del sistema de coordenas voxels"
   ]
  },
  {
   "cell_type": "code",
   "execution_count": 109,
   "id": "bd8b8b90",
   "metadata": {
    "scrolled": false
   },
   "outputs": [
    {
     "name": "stdout",
     "output_type": "stream",
     "text": [
      "\n",
      "-------------------------------------------------------------------------\n",
      "\n",
      "Forma de la matriz_ana: \n",
      " (256, 256, 176) ------> original\n",
      "\n",
      "-------------------------------------------------------------------------\n",
      "\n",
      "Forma del segmento matriz_ana: \n",
      " (256, 256, 150) ------> 26 slices recortados: 13 al inicio y 13 al final\n",
      "\n",
      "-------------------------------------------------------------------------\n",
      "\n"
     ]
    }
   ],
   "source": [
    "# Indique el numero de slices que desea eliminar al inicio y final de la imagenn\n",
    "num_cor = 13\n",
    "tot_cor = 2*num_cor # total de slices recortados\n",
    "\n",
    "corte_img_ana = img_ana.slicer[...,num_cor:-num_cor]\n",
    "\n",
    "# Comparamos con la forma orignal de img_ana\n",
    "print('\\n-------------------------------------------------------------------------\\n')\n",
    "print('Forma de la matriz_ana:', '\\n', form_ana, '------>', 'original')\n",
    "print('\\n-------------------------------------------------------------------------\\n')\n",
    "print('Forma del segmento matriz_ana:', '\\n', corte_img_ana.shape, '------>', \n",
    "      tot_cor,'slices recortados:', num_cor,'al inicio y', num_cor, 'al final')\n",
    "print('\\n-------------------------------------------------------------------------\\n')"
   ]
  },
  {
   "cell_type": "markdown",
   "id": "716f6bf4",
   "metadata": {},
   "source": [
    "### Seleccionar un corte en la dirección *k* del sistema de coordenas voxels"
   ]
  },
  {
   "cell_type": "markdown",
   "id": "8eb2d1d6",
   "metadata": {},
   "source": [
    "Le indicamos al usuario que ingrese el corte que desea seleccionar"
   ]
  },
  {
   "cell_type": "code",
   "execution_count": 110,
   "id": "9213e813",
   "metadata": {},
   "outputs": [
    {
     "name": "stdout",
     "output_type": "stream",
     "text": [
      "\n",
      "-----------------------------------------\n",
      "\n",
      "La imagen posee 176 cortes/slices \n",
      " ingrese un valor entre 0 y 176\n",
      "\n",
      "-----------------------------------------\n",
      "\n",
      "Ingrese el corte que desea seleccionar:80\n",
      " El slice seleccionado es el: 80\n",
      "\n",
      "-----------------------------------------\n",
      "\n"
     ]
    }
   ],
   "source": [
    "# Le indicamos al usuario que ingrese el corte que desea seleccionar\n",
    "\n",
    "while True:\n",
    "    print('\\n-----------------------------------------\\n')\n",
    "    print('La imagen posee', form_ana[2], 'cortes/slices', '\\n',\n",
    "         'ingrese un valor entre 0 y', form_ana[2])\n",
    "    print('\\n-----------------------------------------\\n')\n",
    "    cor_sel =  input('Ingrese el corte que desea seleccionar:')\n",
    "    ver_num = cor_sel.isnumeric()\n",
    "    if ver_num == True:\n",
    "        print(\" El slice seleccionado es el:\", cor_sel)\n",
    "        print('\\n-----------------------------------------\\n')      \n",
    "        break\n",
    "    else:\n",
    "        print(\" \\nERROR. Se debe ingresar un numero natural\")\n",
    "\n",
    "#corvetimos a int\n",
    "cor_sel = int(cor_sel)"
   ]
  },
  {
   "cell_type": "markdown",
   "id": "96680160",
   "metadata": {},
   "source": [
    "Extraemos el corte seleccionado"
   ]
  },
  {
   "cell_type": "code",
   "execution_count": 111,
   "id": "cbb2e518",
   "metadata": {
    "run_control": {
     "marked": false
    }
   },
   "outputs": [
    {
     "name": "stdout",
     "output_type": "stream",
     "text": [
      "\n",
      "-------------------------------------\n",
      "\n",
      "(256, 256, 1) ---> forma del corte 80\n",
      "\n",
      "-------------------------------------\n",
      "\n"
     ]
    }
   ],
   "source": [
    "if cor_sel == 0:\n",
    "    cor_sel = -(form_ana[2]-1)\n",
    "    cor = img_ana.slicer[..., 0:cor_sel]\n",
    "    print('\\n-------------------------------------\\n')\n",
    "    print(cor.shape, '--->', 'forma del corte 0')\n",
    "    print('\\n-------------------------------------\\n')\n",
    "elif cor_sel == form_ana[2]:\n",
    "    cor = img_ana.slicer[..., form_ana[2]-1:form_ana[2]]\n",
    "    print('\\n-------------------------------------\\n')\n",
    "    print(cor.shape, '--->', 'forma del corte', cor_sel)\n",
    "    print('\\n-------------------------------------\\n')\n",
    "else:  \n",
    "    cor = img_ana.slicer[..., cor_sel:cor_sel+1]\n",
    "    print('\\n-------------------------------------\\n')\n",
    "    print(cor.shape, '--->', 'forma del corte', cor_sel)\n",
    "    print('\\n-------------------------------------\\n')"
   ]
  },
  {
   "cell_type": "markdown",
   "id": "2ec42fde",
   "metadata": {},
   "source": [
    "### Visualizar el corte seleccionado\n",
    "\n",
    "Cargamos los datos del corte seleccionado (*cor*)"
   ]
  },
  {
   "cell_type": "code",
   "execution_count": 112,
   "id": "ea10603b",
   "metadata": {},
   "outputs": [],
   "source": [
    "datos_cor = cor.get_fdata()"
   ]
  },
  {
   "cell_type": "markdown",
   "id": "277fa29f",
   "metadata": {},
   "source": [
    "&nbsp;\n",
    "\n",
    "Para visualizar el corte, importamos el modulo\n",
    "\n",
    "    matplotlib\n",
    "    \n",
    "> Matplotlib es una biblioteca completa para crear visualizaciones estáticas, animadas e interactivas en Python.\n",
    "\n",
    "&nbsp;\n",
    "\n",
    "[ref matplotlib](https://matplotlib.org/)\n",
    "\n",
    "&nbsp;"
   ]
  },
  {
   "cell_type": "code",
   "execution_count": 113,
   "id": "235e3264",
   "metadata": {},
   "outputs": [
    {
     "data": {
      "image/png": "[encoded data removed]",
      "text/plain": [
       "<Figure size 432x432 with 1 Axes>"
      ]
     },
     "metadata": {
      "needs_background": "light"
     },
     "output_type": "display_data"
    }
   ],
   "source": [
    "import matplotlib.pyplot as plt\n",
    "\n",
    "plt.figure(figsize=(6, 6)) \n",
    "plt.imshow(datos_cor, cmap = 'gray')\n",
    "plt.axis('off')\n",
    "name_save = 'corte_ana_k_'+ str(cor_sel)\n",
    "plt.savefig(opj(path_png,name_save))\n",
    "plt.show()"
   ]
  },
  {
   "cell_type": "markdown",
   "id": "947c75cc",
   "metadata": {},
   "source": [
    "Estamos observando una imagen sagital, la cual corresponde al plano YZ en el sistema de coordenadas mundial. La adquisición de la imagen anatómica se realizó en el sistema de coordenadas anatómico 'PSR', por lo que los datos se almacenaron de la siguiente manera\n",
    "\n",
    "\n",
    "    datos_img[P,S,R] = datos[Y,Z,X]\n",
    "\n",
    "Por lo tanto, si seleccionamos cortes en la dirección *k* en el sistema de coordenadas voxel de una imagen con sistema de coordenadas anatómico 'PSR', obtendremos los cortes sagitales del sujeto.\n",
    "\n",
    "En este sistema 'PSR', si queremos visualizar los cortes coronales que corresponde al plano XZ en el sistema de coordenadas mundial, debe seleccionarse en la dirección *i* en el sistema de coordenadas voxel, mientras que los cortes axiales que corresponde al plano XY en el sistema de coordenadas mundial, debemos seleccionar en la dirección *j* en el sistema de coordenadas voxel."
   ]
  },
  {
   "cell_type": "markdown",
   "id": "040a3756",
   "metadata": {},
   "source": [
    "### Guardar el corte seleccionado"
   ]
  },
  {
   "cell_type": "code",
   "execution_count": 114,
   "id": "149ab5e1",
   "metadata": {},
   "outputs": [
    {
     "data": {
      "text/plain": [
       "(256, 256, 1)"
      ]
     },
     "execution_count": 114,
     "metadata": {},
     "output_type": "execute_result"
    }
   ],
   "source": [
    "name_save = 'corte_ana_k_'+ str(cor_sel) + '.nii'\n",
    "\n",
    "nib.save(cor, opj(path_output,name_save))\n",
    "\n",
    "'''\n",
    "Verificamos si se guardo correctamente, cargando de nuevo el corte y visualizando su forma\n",
    "'''\n",
    "\n",
    "img_again = nib.load(opj(path_output,name_save))\n",
    "img_again.shape"
   ]
  },
  {
   "cell_type": "markdown",
   "id": "089bfaf8",
   "metadata": {},
   "source": [
    "&nbsp;\n",
    "## Corte de slices en imagen fisiológica (4D)"
   ]
  },
  {
   "cell_type": "markdown",
   "id": "d930a3e6",
   "metadata": {},
   "source": [
    "### Cortar los primeros X volumenes de la IF\n"
   ]
  },
  {
   "cell_type": "code",
   "execution_count": 115,
   "id": "3311d400",
   "metadata": {},
   "outputs": [
    {
     "name": "stdout",
     "output_type": "stream",
     "text": [
      "\n",
      "-----------------------------------------------------------------------------\n",
      "\n",
      "Forma de la matriz_fis: \n",
      " (64, 64, 36, 189) ------> original\n",
      "\n",
      "-----------------------------------------------------------------------------\n",
      "\n",
      "Forma del segmento matriz_fis: \n",
      " (64, 64, 36, 179) ------> se recortaron los primeros 10 volumes de la imagen\n",
      "\n",
      "-----------------------------------------------------------------------------\n",
      "\n"
     ]
    }
   ],
   "source": [
    "# Indique el numero de volumenes que desea eliminar\n",
    "num_vol = 10\n",
    "\n",
    "# De la matriz form_ana, form_ana[2] me indica el slice\n",
    "corte_img_fis = img_fis.slicer[...,num_vol:form_fis[3]]\n",
    "\n",
    "# Comparamos con la forma orignal de img_ana\n",
    "print('\\n-----------------------------------------------------------------------------\\n')\n",
    "print('Forma de la matriz_fis:', '\\n', form_fis, '------>', 'original')\n",
    "print('\\n-----------------------------------------------------------------------------\\n')\n",
    "print('Forma del segmento matriz_fis:', '\\n', corte_img_fis.shape, '------>', \n",
    "      'se recortaron los primeros', num_vol,'volumes de la imagen')\n",
    "print('\\n-----------------------------------------------------------------------------\\n')"
   ]
  },
  {
   "cell_type": "markdown",
   "id": "de67b311",
   "metadata": {},
   "source": [
    "### Cortar los primeros X y ultimos X volumenes de IF"
   ]
  },
  {
   "cell_type": "code",
   "execution_count": 116,
   "id": "74e6931b",
   "metadata": {
    "scrolled": true
   },
   "outputs": [
    {
     "name": "stdout",
     "output_type": "stream",
     "text": [
      "\n",
      "------------------------------------------------------------------------------\n",
      "\n",
      "Forma de la matriz_fis: \n",
      " (64, 64, 36, 189) ------> original\n",
      "\n",
      "------------------------------------------------------------------------------\n",
      "\n",
      "Forma del segmento matriz_fis: \n",
      " (64, 64, 36, 163) ------> 26 volumenes recortados: 13 al inicio y 13 al final\n",
      "\n",
      "------------------------------------------------------------------------------\n",
      "\n"
     ]
    }
   ],
   "source": [
    "# Indique el numero de slices que desea eliminar al inicio y final de la imagenn\n",
    "num_vol = 13\n",
    "tot_vol = 2*num_vol # total de slices recortados\n",
    "\n",
    "corte_img_fis = img_fis.slicer[...,num_vol:-num_vol]\n",
    "\n",
    "# Comparamos con la forma orignal de img_ana\n",
    "print('\\n------------------------------------------------------------------------------\\n')\n",
    "print('Forma de la matriz_fis:', '\\n', form_fis, '------>', 'original')\n",
    "print('\\n------------------------------------------------------------------------------\\n')\n",
    "print('Forma del segmento matriz_fis:', '\\n', corte_img_fis.shape, '------>', \n",
    "      tot_vol,'volumenes recortados:', num_vol,'al inicio y', num_vol, 'al final')\n",
    "print('\\n------------------------------------------------------------------------------\\n')"
   ]
  },
  {
   "cell_type": "markdown",
   "id": "19af3a03",
   "metadata": {},
   "source": [
    "### Seleccion de los primeros X volumenes"
   ]
  },
  {
   "cell_type": "code",
   "execution_count": 117,
   "id": "ae997a4e",
   "metadata": {},
   "outputs": [
    {
     "name": "stdout",
     "output_type": "stream",
     "text": [
      "\n",
      "---------------------------------------\n",
      "\n",
      "(64, 64, 36, 9) ---> forma del volumen\n",
      "\n",
      "---------------------------------------\n",
      "\n"
     ]
    }
   ],
   "source": [
    "v_fir = 9  # inidicar el numero de los primeros volumenes que desea seleecionar\n",
    "\n",
    "v = img_fis.slicer[..., :v_fir]\n",
    "print('\\n---------------------------------------\\n')\n",
    "print(v.shape, '--->', 'forma del volumen',)\n",
    "print('\\n---------------------------------------\\n')"
   ]
  },
  {
   "cell_type": "markdown",
   "id": "4fe781c3",
   "metadata": {},
   "source": [
    "### Utilizar un paso entero al cortar"
   ]
  },
  {
   "cell_type": "code",
   "execution_count": 118,
   "id": "5d83b373",
   "metadata": {},
   "outputs": [
    {
     "name": "stdout",
     "output_type": "stream",
     "text": [
      "\n",
      "---------------------------------------\n",
      "\n",
      "(32, 32, 18, 189) ---> forma del volumen\n",
      "\n",
      "---------------------------------------\n",
      "\n"
     ]
    }
   ],
   "source": [
    "pas = 2\n",
    "vol_pas = img_fis.slicer[::pas, ::pas, ::pas]\n",
    "\n",
    "print('\\n---------------------------------------\\n')\n",
    "print(vol_pas.shape, '--->', 'forma del volumen')\n",
    "print('\\n---------------------------------------\\n')"
   ]
  },
  {
   "cell_type": "markdown",
   "id": "bbf29a45",
   "metadata": {},
   "source": [
    "### Seleccion de un volumen para extraer un corte"
   ]
  },
  {
   "cell_type": "code",
   "execution_count": 119,
   "id": "076b1e3e",
   "metadata": {},
   "outputs": [
    {
     "name": "stdout",
     "output_type": "stream",
     "text": [
      "(64, 64, 36) ---> forma del volumen 4\n"
     ]
    }
   ],
   "source": [
    "vol_sel = 4 # indicar el numero del volumen a sleccionar\n",
    "\n",
    "vol = img_fis.slicer[..., vol_sel]\n",
    "print(vol.shape, '--->', 'forma del volumen', vol_sel)\n",
    "\n",
    "#datos_vol = vol.get_fdata()\n",
    "#print(datos_vol.size)"
   ]
  },
  {
   "cell_type": "markdown",
   "id": "6a841399",
   "metadata": {},
   "source": [
    "### Seleccionar un corte en la dirección *k* del sistema de coordenas voxels"
   ]
  },
  {
   "cell_type": "markdown",
   "id": "abd2abf9",
   "metadata": {},
   "source": [
    "Le indicamos al usuario que ingrese el corte que desea seleccionar"
   ]
  },
  {
   "cell_type": "code",
   "execution_count": 120,
   "id": "1d47d2d9",
   "metadata": {},
   "outputs": [
    {
     "name": "stdout",
     "output_type": "stream",
     "text": [
      "\n",
      "-----------------------------------------\n",
      "\n",
      "La imagen posee 36 cortes/slices \n",
      " ingrese un valor entre 0 y 36\n",
      "\n",
      "-----------------------------------------\n",
      "\n",
      "Ingrese el corte que desea seleccionar:20\n",
      " El slice seleccionado es el: 20\n",
      "\n",
      "-----------------------------------------\n",
      "\n"
     ]
    }
   ],
   "source": [
    "# Le indicamos al usuario que ingrese el corte que desea seleccionar\n",
    "\n",
    "while True:\n",
    "    print('\\n-----------------------------------------\\n')\n",
    "    print('La imagen posee', form_fis[2], 'cortes/slices', '\\n',\n",
    "         'ingrese un valor entre 0 y', form_fis[2])\n",
    "    print('\\n-----------------------------------------\\n')\n",
    "    cor_sel =  input('Ingrese el corte que desea seleccionar:')\n",
    "    ver_num = cor_sel.isnumeric()\n",
    "    if ver_num == True:\n",
    "        print(\" El slice seleccionado es el:\", cor_sel)\n",
    "        print('\\n-----------------------------------------\\n')      \n",
    "        break\n",
    "    else:\n",
    "        print(\" \\nERROR. Se debe ingresar un numero natural\")\n",
    "\n",
    "#corvetimos a int\n",
    "cor_sel = int(cor_sel)"
   ]
  },
  {
   "cell_type": "markdown",
   "id": "cc3218ad",
   "metadata": {},
   "source": [
    "Extraemos el corte seleccionado"
   ]
  },
  {
   "cell_type": "code",
   "execution_count": 121,
   "id": "a74a2803",
   "metadata": {
    "run_control": {
     "marked": false
    }
   },
   "outputs": [
    {
     "name": "stdout",
     "output_type": "stream",
     "text": [
      "\n",
      "-------------------------------------\n",
      "\n",
      "(64, 64, 1) ---> forma del corte 20\n",
      "\n",
      "-------------------------------------\n",
      "\n"
     ]
    }
   ],
   "source": [
    "if cor_sel == 0:\n",
    "    cor_sel = -(form_fis[2]-1)\n",
    "    cor = vol.slicer[..., 0:cor_sel]\n",
    "    print('\\n-------------------------------------\\n')\n",
    "    print(cor.shape, '--->', 'forma del corte 0')\n",
    "    print('\\n-------------------------------------\\n')\n",
    "elif cor_sel == form_fis[2]:\n",
    "    cor = vol.slicer[..., form_fis[2]-1:form_fis[2]]\n",
    "    print('\\n-------------------------------------\\n')\n",
    "    print(cor.shape, '--->', 'forma del corte', cor_sel)\n",
    "    print('\\n-------------------------------------\\n')\n",
    "else:  \n",
    "    cor = vol.slicer[..., cor_sel:cor_sel+1]\n",
    "    print('\\n-------------------------------------\\n')\n",
    "    print(cor.shape, '--->', 'forma del corte', cor_sel)\n",
    "    print('\\n-------------------------------------\\n')"
   ]
  },
  {
   "cell_type": "markdown",
   "id": "657fa466",
   "metadata": {},
   "source": [
    "### Visualizar el corte seleccionado\n",
    "\n",
    "Cargamos los datos del corte seleccionado (*cor*)"
   ]
  },
  {
   "cell_type": "code",
   "execution_count": 122,
   "id": "0dfa1413",
   "metadata": {},
   "outputs": [],
   "source": [
    "datos_cor = cor.get_fdata()"
   ]
  },
  {
   "cell_type": "code",
   "execution_count": 123,
   "id": "8f4f8356",
   "metadata": {},
   "outputs": [
    {
     "data": {
      "image/png": "[encoded data removed]",
      "text/plain": [
       "<Figure size 432x432 with 1 Axes>"
      ]
     },
     "metadata": {
      "needs_background": "light"
     },
     "output_type": "display_data"
    }
   ],
   "source": [
    "plt.figure(figsize=(6, 6)) \n",
    "plt.imshow(datos_cor, cmap = 'gray')\n",
    "plt.axis('off')\n",
    "name_save = 'corte_fis_k_'+ str(cor_sel)\n",
    "plt.savefig(opj(path_png,name_save))\n",
    "plt.show()"
   ]
  },
  {
   "cell_type": "markdown",
   "id": "52580b8f",
   "metadata": {},
   "source": [
    "Estamos observando una imagen axial, la cual corresponde al plano XY en el sistema de coordenadas mundial. La adquisición de la imagen fisiológica se realizó en el sistema de coordenadas anatómico 'LAS', por lo que los datos se almacenaron de la siguiente manera\n",
    "\n",
    "\n",
    "    datos_img[L,A,S] = datos[X,Y,Z]\n",
    "\n",
    "Por lo tanto, si seleccionamos cortes en la dirección *k* en el sistema de coordenadas voxel de una imagen con sistema de coordenadas anatómico 'LAS', obtendremos los cortes axiales del sujeto.\n",
    "\n",
    "En este sistema 'LAS', si queremos visualizar los cortes sagitales que corresponde al plano YZ en el sistema de coordenadas mundial, debemos seleccionar en la dirección *i* en el sistema de coordenadas voxel, mientras que los cortes coronales que corresponde al plano XZ en el sistema de coordenadas mundial, debe seleccionarse en la dirección *j* en el sistema de coordenadas voxel."
   ]
  },
  {
   "cell_type": "markdown",
   "id": "1ac62e91",
   "metadata": {},
   "source": [
    "### Guardar el corte seleccionado"
   ]
  },
  {
   "cell_type": "code",
   "execution_count": 127,
   "id": "3cf0ffeb",
   "metadata": {},
   "outputs": [
    {
     "name": "stdout",
     "output_type": "stream",
     "text": [
      "\n",
      "-------------------------------------\n",
      "\n",
      "(64, 64, 1) ---> forma del corte\n",
      "\n",
      "-------------------------------------\n",
      "\n"
     ]
    }
   ],
   "source": [
    "name_save = 'corte_fis_k_'+ str(cor_sel) + '.nii'\n",
    "\n",
    "nib.save(cor, opj(path_output,name_save))\n",
    "\n",
    "'''\n",
    "Verificamos si se guardo correctamente, cargando de nuevo el corte y visualizando su forma\n",
    "'''\n",
    "\n",
    "img_again = nib.load(opj(path_output,name_save))\n",
    "\n",
    "print('\\n-------------------------------------\\n')\n",
    "print(img_again.shape, '--->', 'forma del corte')\n",
    "print('\\n-------------------------------------\\n')"
   ]
  },
  {
   "cell_type": "markdown",
   "id": "05683bd0",
   "metadata": {},
   "source": [
    "# Creación de funcion 'visual_cortes_ana'"
   ]
  },
  {
   "cell_type": "markdown",
   "id": "fffcdf07",
   "metadata": {},
   "source": [
    "La siguiente función genera la visualización de los cortes anatómico de varias imágenes (hasta cuatro), requiriendo como inputs:\n",
    "\n",
    "- img: Diccionario con las imágenes nifti\n",
    "- vol: Volumen donde se desea visualizar los cortes anatómicos\n",
    "- vox: Posición i,j,k del voxel sobre el cual se proyectarán los cortes\n",
    "\n",
    "Obteniendo como input los diferentes cortes anatómicos sobre un voxel de las imágenes ingresadas en 'img'.\n",
    "\n",
    "El input 'vox' es la posición i,j,k en el sistema de coordenadas voxel y sobre el cual se extraerán los tres planos anatómicos (sagital, coronal y axial) según el sistema de referencia anatómico con que se adquirieron las imágenes. En la imagen se ilustra como en un volumen de 5x5x5 voxeles, elegimos el voxel (3,4,2) para visualizar los cortes sobre dicho voxel.\n",
    "\n",
    "\n",
    "<img src=\"imagenes/funcion_cortes_ana.png\" width=\"850\">"
   ]
  },
  {
   "cell_type": "code",
   "execution_count": null,
   "id": "84171670",
   "metadata": {},
   "outputs": [],
   "source": [
    "'''\n",
    "Función para generar la visualización de los cortes anatómico de varias imágenes (hasta cuatro) \n",
    "\n",
    "Inputs:\n",
    "\n",
    "- img: Diccionario con las imágenes nifti\n",
    "- vol: Volumen donde se desea visualizar los cortes anatómicos\n",
    "- vox: Posición i,j,k del voxel sobre el cual se proyectarán los cortes\n",
    "#- nom_img = nombre de la imagen con que se desea visualizar y guardar\n",
    "\n",
    "Outputs:\n",
    "- plot de los diferentes cortes anatómicos sobre un voxel de las imágenes ingresadas en 'img'\n",
    "'''\n",
    "\n",
    "def visual_cortes_ana(img, vol, voxel):\n",
    "    import nibabel as nib\n",
    "    import numpy as np\n",
    "    import matplotlib.pyplot as plt\n",
    "    import matplotlib.image as mpimg\n",
    "    \n",
    "    # Creamos una lista de las posibles orientaciones\n",
    "    orientaciones = [('L', 'A', 'S'), ('P', 'S', 'R')]\n",
    "    \n",
    "    # Creamos una lista con las claves del diccionario ingresado\n",
    "    lista_img = list(img.keys())\n",
    "\n",
    "    corte_sag = {}\n",
    "    corte_cor = {}\n",
    "    corte_axi = {}\n",
    "    datos_img = {}\n",
    "    x_cor = {}\n",
    "    y_cor = {}\n",
    "    z_cor = {}\n",
    "    nomb_ori={}\n",
    "    for i, ima in enumerate(lista_img):\n",
    "        # Orientacion de la imágen\n",
    "        orientacion = nib.orientations.aff2axcodes(img[ima].affine)\n",
    "        # creamos un nombre para la grafica\n",
    "        a = ','.join(orientacion)\n",
    "        nomb_ori[ima] = '('+ a +')'\n",
    "\n",
    "        #se extraen valores x, y, z del voxel ingresado\n",
    "        eje = []\n",
    "        for i in range(len(orientacion)):\n",
    "            #vox = voxel[i]\n",
    "            ori = str(orientacion[i])\n",
    "            if  ori == 'L'or ori == 'R':\n",
    "                x_cor[ima] = voxel[i]\n",
    "\n",
    "            elif ori == 'A' or ori == 'P':\n",
    "                y_cor[ima] = voxel[i]\n",
    "\n",
    "            elif ori == 'I'or ori == 'S':\n",
    "                z_cor[ima] = voxel[i]\n",
    "\n",
    "        # Extraemos los cortes\n",
    "        datos_img[ima] = img[ima].get_fdata()\n",
    "        \n",
    "        if (orientacion==orientaciones[0]) == True:\n",
    "            ta = len(datos_img[ima].shape)\n",
    "            if ta == 4:\n",
    "                corte_sag[ima] = datos_img[ima][x_cor[ima],:, :,vol]\n",
    "                corte_cor[ima] = datos_img[ima][:, y_cor[ima], :,vol]\n",
    "                corte_axi[ima] = datos_img[ima][:, :,z_cor[ima],vol]\n",
    "            else:\n",
    "                corte_sag[ima] = datos_img[ima][x_cor[ima],:,:]\n",
    "                corte_cor[ima] = datos_img[ima][:,y_cor[ima],:]\n",
    "                corte_axi[ima] = datos_img[ima][:,:,z_cor[ima]]\n",
    "                \n",
    "        if (orientacion==orientaciones[1]) == True:\n",
    "            ta = len(datos_img[ima].shape)\n",
    "            if ta == 4:\n",
    "                corte_sag[ima] = datos_img[ima][:, :,x_cor[ima],vol]\n",
    "                corte_cor[ima] = datos_img[ima][y_cor[ima], :, :,vol]\n",
    "                corte_axi[ima] = datos_img[ima][:, z_cor[ima], :,vol]\n",
    "            else:\n",
    "                corte_sag[ima] = datos_img[ima][:,:,x_cor[ima]]\n",
    "                corte_cor[ima] = datos_img[ima][y_cor[ima],:,:]\n",
    "                corte_axi[ima] = datos_img[ima][:,z_cor[ima],:]\n",
    "\n",
    "    \n",
    "    # Definimos estilo de letra para la grafica\n",
    "    font1 = {'fontsize':18, 'fontweight':'bold', 'color':'tab:blue'}\n",
    "    font2  = {'fontsize':18, 'fontweight':'bold', 'color':'tab:red'}\n",
    "    \n",
    "    if (len(lista_img))==1:\n",
    "        #Graficamos\n",
    "        nom = lista_img[0] + '\\n' + nomb_ori[lista_img[0]]\n",
    "\n",
    "        fig, axes = plt.subplots(1,3, figsize=(15, 15))\n",
    "        fig.suptitle(nom, fontweight =\"bold\", fontsize = 22, color = 'tab:blue')\n",
    "        axes[0].imshow(corte_sag[ima], cmap = 'gray')\n",
    "        axes[1].imshow(corte_cor[ima], cmap = 'gray')\n",
    "        axes[2].imshow(corte_axi[ima], cmap = 'gray')\n",
    "        for i in range(3):\n",
    "            axes[i].axis('off')\n",
    "\n",
    "        # Titulos de las graficas\n",
    "        titulo =['Corte Sagital: '+ str(x_cor[ima]) + '\\n', \n",
    "                 'Corte Coronal: '+ str(y_cor[ima]) + '\\n',\n",
    "                 'Corte Axial: '+ str(z_cor[ima]) + '\\n']\n",
    "\n",
    "        for i, title in enumerate(titulo):\n",
    "            axes[i].set_title(title, fontdict=font2)\n",
    "\n",
    "        plt.subplots_adjust(#left=0.5,\n",
    "                        #bottom=0.5, \n",
    "                        #right=0.7,\n",
    "                        hspace=0.3,\n",
    "                        top=1.26)\n",
    "        fig.patch.set_facecolor('xkcd:white')\n",
    "        plt.show()\n",
    "    \n",
    "    else:\n",
    "        # Graficamos\n",
    "        fig, axes = plt.subplots(3, len(lista_img),figsize=(20, 20))\n",
    "        for i, im in enumerate(lista_img):\n",
    "            axes[0,i].imshow(corte_sag[im], cmap = 'gray')\n",
    "            axes[1,i].imshow(corte_cor[im], cmap = 'gray')\n",
    "            axes[2,i].imshow(corte_axi[im], cmap = 'gray')\n",
    "\n",
    "        \n",
    "            # Identificamos los cortes\n",
    "            titulo =['Corte Sagital: '+ str(x_cor[im]) + '\\n', \n",
    "                     'Corte Coronal: '+ str(y_cor[im]) + '\\n',\n",
    "                     'Corte Axial: '+ str(z_cor[im]) + '\\n']\n",
    "\n",
    "            for j, title in enumerate(titulo):\n",
    "                axes[j,i].xaxis.set_label_position('top')\n",
    "                axes[j,i].set_xlabel(title, fontdict=font2)\n",
    "            \n",
    "\n",
    "        # Titulos que que identifica la imagen y la orientacion\n",
    "        for i,im in enumerate(lista_img):\n",
    "            axes[0,i].set_title((im+'\\n'+nomb_ori[im]+'\\n'), \n",
    "                                fontdict=font1)\n",
    "        \n",
    "        #for j in range(3):\n",
    "            #for i in range(2):\n",
    "                #axes[j,i].axis('off')\n",
    "\n",
    "    \n",
    "        plt.subplots_adjust(#left=0.5,\n",
    "                            #bottom=0.5, \n",
    "                            #right=0.7,        \n",
    "                            #hspace=0.3,\n",
    "                            top=0.91)\n",
    "    plt.show()\n",
    "    \n",
    "    # cargamos imagen de referencia de los cortes anatomicos\n",
    "    img_cor_sag = mpimg.imread(opj(path_ref,'corte_sagital.png'))\n",
    "    img_cor_cor = mpimg.imread(opj(path_ref,'corte_coronal.png'))\n",
    "    img_cor_axi = mpimg.imread(opj(path_ref,'corte_axial.png'))\n",
    "\n",
    "    img_cor = [img_cor_sag,img_cor_cor,img_cor_axi]\n",
    "\n",
    "    fig, axes = plt.subplots(1,3, figsize=(2,2))\n",
    "    for i,imco in enumerate(img_cor):\n",
    "        axes[i].imshow(img_cor[i])\n",
    "        axes[i].axis('off')\n",
    "\n",
    "    # para cambiar el espacio entre las subtramas de Matplotlib\n",
    "    plt.subplots_adjust(left=0, \n",
    "                        bottom=0.1,  \n",
    "                        right=7,  \n",
    "                        top=0.9,  \n",
    "                        wspace=1,  \n",
    "                        hspace=0.4)\n",
    "    #fig.tight_layout()\n",
    "    fig.patch.set_facecolor('xkcd:white')\n",
    "    plt.plot()"
   ]
  },
  {
   "cell_type": "markdown",
   "id": "f8fe5f8d",
   "metadata": {},
   "source": [
    "# Tiempo de ejecución"
   ]
  },
  {
   "cell_type": "code",
   "execution_count": 125,
   "id": "aabf6d0a",
   "metadata": {},
   "outputs": [
    {
     "name": "stdout",
     "output_type": "stream",
     "text": [
      "-----------------------------\n",
      " tiempo de ejecución\n",
      "\n",
      " 13.805768251419067 seg\n",
      " 0.23009613752365113 min\n",
      " -----------------------------\n",
      "\n",
      "---------------------------------------\n",
      " tiempo de ejecución del sistema y CPU\n",
      "\n",
      " 5.6867770019999995 seg\n",
      " 0.09477961669999999 min\n",
      " ---------------------------------------\n",
      "\n"
     ]
    }
   ],
   "source": [
    "fin = time.time()\n",
    "end = time.process_time()\n",
    "tiempo = fin - inicio\n",
    "tiempo2 = end - start\n",
    "\n",
    "print('-----------------------------\\n', \n",
    "      'tiempo de ejecución\\n\\n', tiempo, 'seg\\n', tiempo/60, 'min\\n',      \n",
    "     '-----------------------------\\n')\n",
    "print('---------------------------------------\\n', \n",
    "      'tiempo de ejecución del sistema y CPU\\n\\n', tiempo2, 'seg\\n', tiempo2/60, 'min\\n',   \n",
    "     '---------------------------------------\\n')"
   ]
  },
  {
   "cell_type": "markdown",
   "id": "0eea6ff1",
   "metadata": {},
   "source": [
    "# Fin"
   ]
  }
 ],
 "metadata": {
  "kernelspec": {
   "display_name": "Python 3 (ipykernel)",
   "language": "python",
   "name": "python3"
  },
  "language_info": {
   "codemirror_mode": {
    "name": "ipython",
    "version": 3
   },
   "file_extension": ".py",
   "mimetype": "text/x-python",
   "name": "python",
   "nbconvert_exporter": "python",
   "pygments_lexer": "ipython3",
   "version": "3.9.7"
  },
  "nbTranslate": {
   "displayLangs": [
    "*"
   ],
   "hotkey": "alt-t",
   "langInMainMenu": true,
   "sourceLang": "en",
   "targetLang": "fr",
   "useGoogleTranslate": true
  },
  "toc": {
   "base_numbering": 1,
   "nav_menu": {},
   "number_sections": true,
   "sideBar": true,
   "skip_h1_title": false,
   "title_cell": "Table of Contents",
   "title_sidebar": "Contents",
   "toc_cell": false,
   "toc_position": {
    "height": "calc(100% - 180px)",
    "left": "10px",
    "top": "150px",
    "width": "499.077px"
   },
   "toc_section_display": true,
   "toc_window_display": true
  },
  "varInspector": {
   "cols": {
    "lenName": 16,
    "lenType": 16,
    "lenVar": 40
   },
   "kernels_config": {
    "python": {
     "delete_cmd_postfix": "",
     "delete_cmd_prefix": "del ",
     "library": "var_list.py",
     "varRefreshCmd": "print(var_dic_list())"
    },
    "r": {
     "delete_cmd_postfix": ") ",
     "delete_cmd_prefix": "rm(",
     "library": "var_list.r",
     "varRefreshCmd": "cat(var_dic_list()) "
    }
   },
   "types_to_exclude": [
    "module",
    "function",
    "builtin_function_or_method",
    "instance",
    "_Feature"
   ],
   "window_display": false
  }
 },
 "nbformat": 4,
 "nbformat_minor": 5
}
